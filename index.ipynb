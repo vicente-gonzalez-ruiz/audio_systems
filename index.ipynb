{
 "cells": [
  {
   "cell_type": "markdown",
   "metadata": {},
   "source": [
    "# Audio transduction systems"
   ]
  },
  {
   "cell_type": "markdown",
   "metadata": {},
   "source": [
    "## The microphone and the speaker\n",
    "\n",
    "* The microphone and speaker were invented by Scottish Alexander Graham Bell in 1876.\n",
    "* The microphone and speaker are electroacoustic transducers. A \"micro\" transforms the vibrations due to the acoustic pressure exerted on its membrane by the sound waves in electrical energy. The speaker does just the opposite.\n",
    "\n",
    "<img src=\"data/esquema_microfono.png\" width=400> <img src=\"data/esquema_altavoz.png\" width=400>"
   ]
  },
  {
   "cell_type": "markdown",
   "metadata": {},
   "source": [
    "## Types of microphones and speakers\n",
    "\n",
    "* Surprisingly, both elements have many things in common. In fact, we can use a speaker as a microphone (although it is not ideal), and a microphone as a small speaker (although it is not ideal, of course).\n",
    "\n",
    "    1. Microphones/Condenser loudspeakers: The membrane that moves / produces the sound waves is solidary to one of the faces of a condenser that when moving with the sound, modifies its capacity, and this is registered electrically. On the loudspeaker the incoming variable intensity electricity causes the faces to attract or repel each other.\n",
    "    2. Microphones/Coil loudspeakers: The membrane is integral with a coil that moves inside / produces a magnetic field. In the micro, when moving, an electric current is induced. In the loudspeaker, the electric current causes the coil to move and with it the membrane.\n",
    "    3. Microphones/Piezoelectric speakers: In the micro the membrane moves a piezoelectric material1. In the loudspeaker, the pizoelectric material contracts or expands depending on the intensity of current that passes through it."
   ]
  },
  {
   "cell_type": "markdown",
   "metadata": {},
   "source": [
    "## Main characteristics of the microphones\n",
    "* Because the periodic nature of the sound waves, we can also represent the basis of the frequency components (pure sinusoidal signals), that compose them. This is done using Fourier analysis. The result is a graph of the type:\n",
    "\n",
    "    1. Its transduction power: The electrical signals produced by a microphone are usually weak (because the energy of the captured sound waves is low) and must be amplified. In fact, some microphones have an amplifier (\"the preamp\") and require external power.\n",
    "    2. Its linearity: The ideal micro should transduce with the same power all the sound intensities.\n",
    "<img src=\"data/lineal.png\" width=\"400\">\n",
    "    3. Its response in frequency or harmonic distortion: The ideal microphone transduces with the same power all the frequency bands of the audible spectrum (20 Hz to 20 KHz).\n",
    "<img src=\"data/800px-Oktava319vsshuresm58.png\">\n",
    "    4. Directionality: Indicates the direction within the 3D space that is best recorded by the micro. There is talk of unidirectional microphones when they have to be directed towards the source of sound, bidirectional when they record just what is on one side of the microphone and on the opposite and omnidirectional, when they record all sounds equally, regardless of their origin."
   ]
  },
  {
   "cell_type": "markdown",
   "metadata": {},
   "source": [
    "## A classification of the sound waves\n",
    "* Depending of the compositing frecuencies, se talk about:\n",
    "    1. Infrasounds: those sounds with a frequency smaller than $20$ Hz (not perceptible by humans).\n",
    "    2. Audible sounds: between $20$ and $20{.}000$ Hz.\n",
    "    3. Ultrasounds: over $20{.}000$ Hz. Also unnoticeable.\n",
    "* These frequency ranges vary between individuals. These values are average values."
   ]
  },
  {
   "cell_type": "markdown",
   "metadata": {},
   "source": [
    "## Intensity of sound waves\n",
    "* Sound intensity depends on the amplitude of the particle oscillations, which cause pressure variations in the eardrum}. This way we perceive sound.\n",
    "* The most common way to express a sound intensity $I$ is relatively respect to the intensity needed to reach the threshold of hearing, which by definition is $20\\mu~\\text {P}$ of pressure ($1$ Pascal = $1$ Newton/m$^2$). In this case, the relative loudness or relative SPL (Sound Pressure Level) is expressed as:\n",
    "  $$                                                                                                                                                                                            \n",
    "    \\text{SPL} = \\frac{I}{20\\mu~\\text{Pa}}                                                                                                                                                                                          \n",
    "  $$\n",
    "* The human auditory system reacts logarithmically to sound intensity. Therefore, we generally express this physical measure in decibels (dB). In this case:\n",
    "  $$                                                                                                                                                                                                               \n",
    "    \\text{SPL}[\\text{dB}] = 20\\log\\frac{I}{20\\mu~\\text{Pa}}                                                                                                                                                                         \n",
    "  $$\n",
    "* The following table shows some examples with typical sound intensities expressed in dB's. Also it has been added a column to have an idea of the absolute measure of the real intensity $I$.\n",
    "\n",
    "| Context            | $\\text{SPL}[\\text{dB}]$ | Intensity of sound $I$           |\n",
    "|--------------------|-------------------------|----------------------------------|\n",
    "| Auditory threshold |                  $0$ dB | $20\\mu~\\text{Pa}$                |\n",
    "| Whisper            |                 $20$ dB | $10\\times 20\\mu~\\text{Pa}$       |\n",
    "| Conversation       |                 $40$ dB | $100\\times 20\\mu~\\text{Pa}$      |\n",
    "| Traffic            |                 $60$ dB | $1{.}000\\times 20\\mu~\\text{Pa}$  |\n",
    "| Subway             |                 $80$ dB | $10{.}000\\times 20\\mu~\\text{Pa}$ |\n",
    "| Threshold of Pain  |                $140$ dB | $10^{7}\\times 20\\mu~\\text{Pa}$   |\n",
    "| Jet Engine         |                $160$ dB | $10^{8}\\times 20\\mu~\\text{Pa}$   |\n",
    "\n",
    "* The human ear is able to work properly between $20\\mu~\\text{Pa}$ ($0$ dB) and $100\\mu~\\text{Pa}$ ($114$ dB), approximately."
   ]
  }
 ],
 "metadata": {
  "kernelspec": {
   "display_name": "Python 3",
   "language": "python",
   "name": "python3"
  },
  "language_info": {
   "codemirror_mode": {
    "name": "ipython",
    "version": 3
   },
   "file_extension": ".py",
   "mimetype": "text/x-python",
   "name": "python",
   "nbconvert_exporter": "python",
   "pygments_lexer": "ipython3",
   "version": "3.6.4"
  }
 },
 "nbformat": 4,
 "nbformat_minor": 2
}
